{
 "cells": [
  {
   "cell_type": "markdown",
   "metadata": {
    "collapsed": true,
    "deletable": true,
    "editable": true
   },
   "source": [
    "# Description"
   ]
  },
  {
   "cell_type": "markdown",
   "metadata": {
    "deletable": true,
    "editable": true
   },
   "source": [
    "This is a demonstration of multiple subplots of impervious surface proportion per grid cell using matplotlib. This is a critical step prior to classifying the land-use type of each cell in the study area grid because it reveals the distribution of pixels within each cell. Each pixel approximately represents the impervious surface proportion within 30x30 meters in the real world. \n",
    "\n",
    "The objective of this script is to plot the cumulative frequency impervious surface pixels within each grid cell of the study area. I'll be playing around with matplotlib and seaborn to see which is easier to use. \n",
    "\n",
    "The main reference used for this demonstration is this post in quora:\n",
    "- https://kratsg.quora.com/Dynamic-Subplots-NumPy-and-PyLab\n",
    "\n",
    "Other references can be found in these sites:\n",
    "\n",
    "- [Pyplot Tutorial](http://matplotlib.org/users/pyplot_tutorial.html)\n",
    "- [Useful tip from the late creator of matplotlib, John Hunter](https://gist.github.com/LeoHuckvale/89683dc242f871c8e69b)\n",
    "- [Dynamically add/create subplots in matplotlib](http://stackoverflow.com/questions/12319796/dynamically-add-create-subplots-in-matplotlib)\n",
    "- [Dynamically add subplots in matplotlib with more than one column](http://stackoverflow.com/questions/31575399/dynamically-add-subplots-in-matplotlib-with-more-than-one-column)"
   ]
  },
  {
   "cell_type": "code",
   "execution_count": 329,
   "metadata": {
    "collapsed": true,
    "deletable": true,
    "editable": true
   },
   "outputs": [],
   "source": [
    "import rasterio as rio\n",
    "import time as tm\n",
    "import numpy as np\n",
    "import geopandas as gpd\n",
    "import pandas as pd\n",
    "import rasterstats as rs\n",
    "\n",
    "import matplotlib\n",
    "import matplotlib.mlab as mlab\n",
    "import matplotlib.pyplot as plt\n",
    "\n",
    "import seaborn as sns\n",
    "import warnings\n",
    "from sklearn.preprocessing import normalize, MinMaxScaler\n",
    "\n",
    "warnings.filterwarnings(\"ignore\")\n"
   ]
  },
  {
   "cell_type": "markdown",
   "metadata": {
    "deletable": true,
    "editable": true
   },
   "source": [
    "The code block below visualizes the study area grid and the resampled worldview2 classified image."
   ]
  },
  {
   "cell_type": "code",
   "execution_count": 330,
   "metadata": {
    "collapsed": false,
    "deletable": true,
    "editable": true,
    "scrolled": true
   },
   "outputs": [],
   "source": [
    "\"\"\"\n",
    "http://stackoverflow.com/questions/15408371/cumulative-distribution-plots-python\n",
    "http://matplotlib.org/examples/statistics/histogram_demo_cumulative.html\n",
    "\n",
    "Cumulative frequency plots of impervious surfaces\n",
    "per training grid cell.\n",
    "\"\"\"\n",
    "\n",
    "img_dir = 'resampled.tif'  # data to polit\n",
    "grid_dir = 'grid100.tif'  # grid labels\n",
    "sa_grid_dir = 'study_area\\\\study_area.shp'  # study area grid\n",
    "\n",
    "img = rio.open(img_dir)\n",
    "lgrid = rio.open(grid_dir)\n",
    "pgrid = gpd.read_file(sa_grid_dir)\n",
    "\n",
    "data = img.read(1)\n",
    "grid = lgrid.read(1)\n",
    "\n",
    "data[data>=1] = np.nan\n",
    "\n",
    "# plot study area grid\n",
    "# pgrid.plot(color='white')\n",
    "# plt.show()\n",
    "\n",
    "# # plot raster image of impervious surface proportions\n",
    "# fig, ax = plt.subplots()\n",
    "# pax = ax.imshow(data, interpolation='nearest', cmap='Spectral_r' )\n",
    "# ax.set_title('Impervious surface proportion')\n",
    "# cbar = fig.colorbar(pax, ticks=[0., 0.5, 1.0], orientation='horizontal')\n",
    "# cbar.ax.set_xticklabels(['low', 'medium', 'high'])\n",
    "\n",
    "# plt.show()"
   ]
  },
  {
   "cell_type": "markdown",
   "metadata": {
    "deletable": true,
    "editable": true
   },
   "source": [
    "In this section I attempt plotting the cumulative frequency of each training site using matplotlib."
   ]
  },
  {
   "cell_type": "code",
   "execution_count": 331,
   "metadata": {
    "collapsed": false,
    "deletable": true,
    "editable": true
   },
   "outputs": [
    {
     "data": {
      "image/png": "[encoded data removed]",
      "text/plain": [
       "<matplotlib.figure.Figure at 0x136ab1b0>"
      ]
     },
     "metadata": {},
     "output_type": "display_data"
    }
   ],
   "source": [
    "# cells with lu_codes greater than 0 are\n",
    "# the training cells\n",
    "tr_cell_i = pgrid[pgrid['lu_code']!= 0].index \n",
    "\n",
    "# isolate training grid cells and count num\n",
    "# of cells with num of pixels > 0\n",
    "valid_cells = {}\n",
    "for i, cell_i in enumerate(tr_cell_i):\n",
    "\n",
    "    data[data>=1] = np.nan\n",
    "    cell_pix = data[grid==cell_i]\n",
    "    cell_pix = cell_pix[~np.isnan(cell_pix)] # filter out nodata pixels\n",
    "    \n",
    "    # ignore cells with pixel values of nan\n",
    "    if len(cell_pix) > 0:\n",
    "        valid_cells[cell_i] = cell_pix\n",
    "\n",
    "# create matplotlib figure using total num\n",
    "# of valid cells\n",
    "a = int(len(valid_cells)**.5) + 1\n",
    "b = a\n",
    "fig = plt.figure(figsize=(fig_len, fig_len))\n",
    "plt.xlabel('Impervious surface proportion', fontsize=5)\n",
    "plt.ylabel('Cumulative frequency',  fontsize=5)\n",
    "\n",
    "# for i, cell_i in pgrid.loc[valid_cells].groupby(by='lu_type'):\n",
    "#     print len(cell_i)\n",
    "\n",
    "for i, cell_i in enumerate(valid_cells):\n",
    "    \n",
    "    # collect land-use type\n",
    "    lu = pgrid.loc[cell_i, 'lu_type']\n",
    "    \n",
    "    # add a subplot per figure\n",
    "    ax = fig.add_subplot(a, b, i+1)\n",
    "    \n",
    "    # scale cell pixels from (0,1)\n",
    "    scaler = MinMaxScaler()\n",
    "    cell_pix_norm = scaler.fit_transform(valid_cells[cell_i])\n",
    "\n",
    "    n, bins, patches = plt.hist(cell_pix_norm, bins=50, histtype='step', normed=1,\n",
    "                           cumulative=True, label='Empirical')\n",
    "\n",
    "    # cumulative frequency plotting parameters\n",
    "    mu = cell_pix_norm.mean()\n",
    "    sigma = cell_pix_norm.std()\n",
    "\n",
    "    # reference for multiple plots in a grid\n",
    "    # http://stackoverflow.com/questions/9603230/how-to-use-matplotlib-tight-layout-with-figure\n",
    "\n",
    "#     plot the theoretical cumulative frequency\n",
    "    y = mlab.normpdf(bins, mu, sigma).cumsum()\n",
    "    y /= y[-1]\n",
    "    y[np.isnan(y)] = 0.\n",
    "    y_norm = scaler.fit_transform(y)\n",
    "\n",
    "    ax.plot(bins, y_norm, 'k--', linewidth=1.5, label='Theoretical')\n",
    "\n",
    "#     ax.set_ylim([0., 1.2])\n",
    "#     ax.set_xlim([-0.2, 1.])\n",
    "#     plt.title(str(lu_type) + ' ' + str(cell_i))\n",
    "#     ax.set_ylabel('Cumulative frequency')\n",
    "#     ax.set_xlabel('Proportion impervious surface')\n",
    "#     ax.set_title(str(cell_i) + ',' + lu[0:3])\n",
    "\n",
    "fig.set_tight_layout(True)\n",
    "# fig.tight_layout(pad=0.5, w_pad=0.5, h_pad=0.5)\n",
    "# fig.tight_layout()\n",
    "\n",
    "fig.savefig('plot.png', dpi=250)\n",
    "plt.show()\n",
    "\n"
   ]
  },
  {
   "cell_type": "markdown",
   "metadata": {
    "deletable": true,
    "editable": true
   },
   "source": [
    "Here, I attempt to plot using seaborn."
   ]
  },
  {
   "cell_type": "code",
   "execution_count": null,
   "metadata": {
    "collapsed": true,
    "deletable": true,
    "editable": true
   },
   "outputs": [],
   "source": []
  }
 ],
 "metadata": {
  "kernelspec": {
   "display_name": "Python 2",
   "language": "python",
   "name": "python2"
  },
  "language_info": {
   "codemirror_mode": {
    "name": "ipython",
    "version": 2
   },
   "file_extension": ".py",
   "mimetype": "text/x-python",
   "name": "python",
   "nbconvert_exporter": "python",
   "pygments_lexer": "ipython2",
   "version": "2.7.13"
  }
 },
 "nbformat": 4,
 "nbformat_minor": 2
}
