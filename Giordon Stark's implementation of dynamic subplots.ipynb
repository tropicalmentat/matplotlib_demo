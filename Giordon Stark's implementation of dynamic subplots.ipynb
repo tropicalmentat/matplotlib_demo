{
 "cells": [
  {
   "cell_type": "code",
   "execution_count": 1,
   "metadata": {
    "collapsed": false,
    "deletable": true,
    "editable": true
   },
   "outputs": [
    {
     "name": "stdout",
     "output_type": "stream",
     "text": [
      "a\t=\t5\n",
      "b\t=\t5\n",
      "a*b\t=\t25\n",
      "n\t=\t25\n"
     ]
    }
   ],
   "source": [
    "import numpy as np\n",
    "import matplotlib\n",
    "matplotlib.use('TkAgg')\n",
    "import pylab as plt\n",
    "\n",
    "\n",
    "def generate_plots(n=np.random.randint(100)):\n",
    "    rows = np.floor(n**0.5).astype(int)\n",
    "    cols = np.ceil(1.*n/rows).astype(int)\n",
    "    print \"a\\t=\\t%d\\nb\\t=\\t%d\\na*b\\t=\\t%d\\nn\\t=\\t%d\" % (rows,cols,rows*cols,n)\n",
    "    fig = plt.figure(figsize=(2.*cols,2.*rows))\n",
    "    for i in range(1,n+1):\n",
    "        ax = fig.add_subplot(rows,cols,i)\n",
    "        ax.plot([1,2,3],[1,2,3])\n",
    "        ax.set_title(\"i = %d\" % i)\n",
    "        fig.suptitle(\"n = %d\" % n)\n",
    "        fig.set_tight_layout(True)\n",
    "    return fig\n",
    "\n",
    "s = generate_plots(25)\n",
    "s.show()"
   ]
  }
 ],
 "metadata": {
  "kernelspec": {
   "display_name": "Python 2",
   "language": "python",
   "name": "python2"
  },
  "language_info": {
   "codemirror_mode": {
    "name": "ipython",
    "version": 2
   },
   "file_extension": ".py",
   "mimetype": "text/x-python",
   "name": "python",
   "nbconvert_exporter": "python",
   "pygments_lexer": "ipython2",
   "version": "2.7.13"
  }
 },
 "nbformat": 4,
 "nbformat_minor": 2
}
