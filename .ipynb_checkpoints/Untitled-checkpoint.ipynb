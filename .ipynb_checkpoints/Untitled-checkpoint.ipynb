{
 "cells": [
  {
   "cell_type": "markdown",
   "metadata": {},
   "source": [
    "This is a demonstration of multiple subplots of impervious surface proportion per grid cell using matplotlib. "
   ]
  },
  {
   "cell_type": "code",
   "execution_count": 3,
   "metadata": {
    "collapsed": true
   },
   "outputs": [],
   "source": [
    "import rasterio as rio\n",
    "import time as tm\n",
    "import numpy as np\n",
    "import geopandas as gpd\n",
    "import pandas as pd\n",
    "import rasterstats as rs\n",
    "import matplotlib.mlab as mlab\n",
    "import matplotlib.pyplot as plt\n",
    "import warnings\n",
    "from sklearn.preprocessing import normalize, MinMaxScaler\n"
   ]
  },
  {
   "cell_type": "markdown",
   "metadata": {},
   "source": [
    "Function that will be used to process and normalize the pixel data."
   ]
  },
  {
   "cell_type": "code",
   "execution_count": 4,
   "metadata": {
    "collapsed": true
   },
   "outputs": [],
   "source": [
    "def landuse_is_profile(image, grid, poly_grid):\n",
    "    \"\"\"\n",
    "    http://stackoverflow.com/questions/15408371/cumulative-distribution-plots-python\n",
    "    http://matplotlib.org/examples/statistics/histogram_demo_cumulative.html\n",
    "\n",
    "    Cumulative frequency plots of impervious surfaces\n",
    "    per training grid cell.\n",
    "    \"\"\"\n",
    "\n",
    "    data = image.read(1)\n",
    "    grid = grid.read(1)\n",
    "    pgrid = poly_grid\n",
    "    tr_cell_i = pgrid[pgrid['lu_code']!= 0].index\n",
    "\n",
    "    # print len(tr_cell_i)\n",
    "    # isolate training grid cells\n",
    "    for i, cell_i in enumerate(tr_cell_i):\n",
    "\n",
    "        data[data>=1] = np.nan\n",
    "        cell_pix = data[grid==cell_i]\n",
    "        cell_pix = cell_pix[~np.isnan(cell_pix)] # filter out nodata pixels\n",
    "        lu_type = pgrid.loc[cell_i, 'lu_type']\n",
    "\n",
    "        # plt.subplot()\n",
    "        if len(cell_pix) > 0:\n",
    "\n",
    "            # scale cell pixels from (0,1)\n",
    "            scaler = MinMaxScaler()\n",
    "            cell_pix_norm = scaler.fit_transform(cell_pix)\n",
    "\n",
    "            plt.figure()\n",
    "            plt.subplot()\n",
    "            n, bins, patches = plt.hist(cell_pix_norm, bins=50, histtype='step', normed=1,\n",
    "                                   cumulative=True, facecolor='g', label='Empirical')\n",
    "\n",
    "            #########################################\n",
    "\n",
    "            # cumulative frequency plotting parameters\n",
    "            mu = cell_pix_norm.mean()\n",
    "            sigma = cell_pix_norm.std()\n",
    "\n",
    "            # plot\n",
    "            # reference for multiple plots in a grid\n",
    "            # http://stackoverflow.com/questions/9603230/how-to-use-matplotlib-tight-layout-with-figure\n",
    "\n",
    "            y = mlab.normpdf(bins, mu, sigma).cumsum()\n",
    "            y /= y[-1]\n",
    "            y[np.isnan(y)] = 0.\n",
    "            y_norm = scaler.fit_transform(y)\n",
    "\n",
    "            plt.plot(bins, y_norm, 'k--', linewidth=1.5, label='Theoretical')\n",
    "            # ax.set_ylabel('Cumulative frequency')\n",
    "            # ax.set_xlabel('Proportion impervious surface')\n",
    "            # ax.set_ylim([0., 1.2])\n",
    "            # ax.set_xlim([-0.2, 1.])\n",
    "            plt.title(str(lu_type) + ' ' + str(cell_i))\n",
    "    plt.tight_layout()\n",
    "    plt.show()\n",
    "\n",
    "    return"
   ]
  },
  {
   "cell_type": "markdown",
   "metadata": {},
   "source": [
    "The main function."
   ]
  },
  {
   "cell_type": "code",
   "execution_count": null,
   "metadata": {
    "collapsed": true
   },
   "outputs": [],
   "source": [
    "def main():\n",
    "    img_dir = 'resampled.tif'\n",
    "    grid_dir = 'grid100.tif'\n",
    "    sa_grid_dir = 'study_area\\\\study_area.shp'\n",
    "\n",
    "    img = rio.open(img_dir)\n",
    "    # affine = img.affine\n",
    "    # pgrid = gpd.read_file(pgrid_dir)\n",
    "    # print pgrid\n",
    "    grid = rio.open(grid_dir)\n",
    "    pgrid_dir = gpd.read_file(sa_grid_dir)\n",
    "\n",
    "    landuse_is_profile(img, grid, pgrid_dir)\n",
    "\n",
    "    return\n",
    "\n",
    "\n",
    "if __name__==\"__main__\":\n",
    "    start = tm.time()\n",
    "    main()\n",
    "    print '\\nProcessing time: %f seconds' % (tm.time() - start)"
   ]
  }
 ],
 "metadata": {
  "kernelspec": {
   "display_name": "Python 2",
   "language": "python",
   "name": "python2"
  },
  "language_info": {
   "codemirror_mode": {
    "name": "ipython",
    "version": 2
   },
   "file_extension": ".py",
   "mimetype": "text/x-python",
   "name": "python",
   "nbconvert_exporter": "python",
   "pygments_lexer": "ipython2",
   "version": "2.7.13"
  }
 },
 "nbformat": 4,
 "nbformat_minor": 2
}
